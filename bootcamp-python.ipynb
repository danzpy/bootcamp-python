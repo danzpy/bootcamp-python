{
 "cells": [
  {
   "cell_type": "markdown",
   "id": "9ffcedb2-e96b-4827-8a4e-0ad52247202b",
   "metadata": {},
   "source": [
    "# Aula 1"
   ]
  },
  {
   "cell_type": "markdown",
   "id": "9c41eb8c-f9da-465d-bf85-cd6e8ac235d3",
   "metadata": {},
   "source": [
    "#### Utilizando o comando `print()`.\n",
    "\n",
    "Esse comando imprime mensagens ao usuário. Para imprimir mensagens em texto, será necessário a inclusão de aspas simples ou duplas no início e no fim da mensagem.\n",
    "\n",
    "Para a impressão de valores numéricos, não será necessária a inclusão das aspas. Porém, se o número for racional, o separador deverá ser um ponto."
   ]
  },
  {
   "cell_type": "code",
   "execution_count": 1,
   "id": "33d3bfad-e953-43f2-ab79-ed1d57c77f4a",
   "metadata": {},
   "outputs": [
    {
     "name": "stdout",
     "output_type": "stream",
     "text": [
      "Isso é uma string\n"
     ]
    }
   ],
   "source": [
    "print(\"Isso é uma string\")"
   ]
  },
  {
   "cell_type": "code",
   "execution_count": 2,
   "id": "c0fea261-aec9-4996-9016-f231c2050048",
   "metadata": {},
   "outputs": [
    {
     "ename": "SyntaxError",
     "evalue": "invalid syntax. Perhaps you forgot a comma? (2740058805.py, line 1)",
     "output_type": "error",
     "traceback": [
      "\u001b[1;36m  Cell \u001b[1;32mIn[2], line 1\u001b[1;36m\u001b[0m\n\u001b[1;33m    print(Esse código precisa de aspas)\u001b[0m\n\u001b[1;37m          ^\u001b[0m\n\u001b[1;31mSyntaxError\u001b[0m\u001b[1;31m:\u001b[0m invalid syntax. Perhaps you forgot a comma?\n"
     ]
    }
   ],
   "source": [
    "print(Esse código precisa de aspas)"
   ]
  },
  {
   "cell_type": "code",
   "execution_count": 3,
   "id": "2c35bd0f-21c3-443a-85b3-574a354f46e3",
   "metadata": {},
   "outputs": [
    {
     "name": "stdout",
     "output_type": "stream",
     "text": [
      "5\n"
     ]
    }
   ],
   "source": [
    "print(2 + 3)"
   ]
  },
  {
   "cell_type": "code",
   "execution_count": 4,
   "id": "11adc22b-dce3-4863-b4db-50531b58662e",
   "metadata": {},
   "outputs": [
    {
     "name": "stdout",
     "output_type": "stream",
     "text": [
      "5.0\n"
     ]
    }
   ],
   "source": [
    "print(2.5 + 2.5)"
   ]
  },
  {
   "cell_type": "code",
   "execution_count": 6,
   "id": "ef87c150-942c-44e9-8a84-8bfe582f5ab0",
   "metadata": {},
   "outputs": [
    {
     "name": "stdout",
     "output_type": "stream",
     "text": [
      "Olá mundo.\n"
     ]
    }
   ],
   "source": [
    "print(\"Olá\" + \" \" + \"mundo.\")"
   ]
  },
  {
   "cell_type": "markdown",
   "id": "86c21bc2-6a26-441c-bff9-e9005ef1f9df",
   "metadata": {},
   "source": [
    "#### Utilizando o comando `input()`.\n",
    "\n",
    "Esse comando permite uma interação com o usuário fazendo com que seja capturadas informações/dados de entrada."
   ]
  },
  {
   "cell_type": "code",
   "execution_count": 7,
   "id": "2e8e8394-e3d8-4b02-9a1f-5db710c29efd",
   "metadata": {},
   "outputs": [
    {
     "name": "stdin",
     "output_type": "stream",
     "text": [
      "Qual sua cidade?  São Paulo\n"
     ]
    },
    {
     "name": "stdout",
     "output_type": "stream",
     "text": [
      "São Paulo\n"
     ]
    }
   ],
   "source": [
    "print(input(\"Qual sua cidade? \"))"
   ]
  },
  {
   "cell_type": "markdown",
   "id": "4ed8ab27-4887-4147-a68a-7fc0f77a9400",
   "metadata": {},
   "source": [
    "### Exercício 1\n",
    "\n",
    "Crie um programa que o usuário digite seu nome e retorne o número de carácteres do dado de entrada"
   ]
  },
  {
   "cell_type": "code",
   "execution_count": 9,
   "id": "f857269b-ad02-4a01-b2dd-c65ac80a429e",
   "metadata": {},
   "outputs": [
    {
     "name": "stdin",
     "output_type": "stream",
     "text": [
      "Digite seu nome:  Daniel\n"
     ]
    },
    {
     "name": "stdout",
     "output_type": "stream",
     "text": [
      "6\n"
     ]
    }
   ],
   "source": [
    "print(len(input(\"Digite seu nome: \")))"
   ]
  },
  {
   "cell_type": "markdown",
   "id": "a65f92e1-3e5c-440e-8b1c-36d1de55ae23",
   "metadata": {},
   "source": [
    "#### Utilizando a função `len()`.\n",
    "\n",
    "Essa função imprime quantos caracteres possuí uma determinada string."
   ]
  },
  {
   "cell_type": "code",
   "execution_count": 11,
   "id": "12b92f35-315e-4d92-843d-1b1e5e5e1aee",
   "metadata": {},
   "outputs": [
    {
     "name": "stdout",
     "output_type": "stream",
     "text": [
      "46\n"
     ]
    }
   ],
   "source": [
    "print(len('pneumoultramicroscopicossilicovulcanoconiótico'))"
   ]
  },
  {
   "cell_type": "markdown",
   "id": "cbc019e5-4d48-4b6b-9127-904e21eb1b26",
   "metadata": {},
   "source": [
    "### Exercício 2\n",
    "\n",
    "Crie um programa que o usuário digite dois valores, depois imprima a soma destes valores."
   ]
  },
  {
   "cell_type": "code",
   "execution_count": 21,
   "id": "32c5c70b-b40d-4959-b6b2-ce5b37dd22b3",
   "metadata": {},
   "outputs": [
    {
     "name": "stdin",
     "output_type": "stream",
     "text": [
      "Digite um valor:  2\n",
      "Digite outro valor:  3\n"
     ]
    },
    {
     "name": "stdout",
     "output_type": "stream",
     "text": [
      "5\n"
     ]
    }
   ],
   "source": [
    "print(int(input('Digite um valor: ')) + int(input('Digite outro valor: ')))"
   ]
  },
  {
   "cell_type": "markdown",
   "id": "59d11add-42be-41b6-8619-83b177542efa",
   "metadata": {},
   "source": [
    "#### Utilizando a função `int()`.\n",
    "\n",
    "Essa função converte o valor atribuído para um inteiro."
   ]
  },
  {
   "cell_type": "code",
   "execution_count": 22,
   "id": "fdca61ea-e650-4d29-ab82-c04caaedace3",
   "metadata": {},
   "outputs": [
    {
     "data": {
      "text/plain": [
       "1"
      ]
     },
     "execution_count": 22,
     "metadata": {},
     "output_type": "execute_result"
    }
   ],
   "source": [
    "len(\"2\")"
   ]
  },
  {
   "cell_type": "code",
   "execution_count": 23,
   "id": "73fff930-6665-45fc-9fe2-868c9dacc309",
   "metadata": {},
   "outputs": [
    {
     "ename": "TypeError",
     "evalue": "object of type 'int' has no len()",
     "output_type": "error",
     "traceback": [
      "\u001b[1;31m---------------------------------------------------------------------------\u001b[0m",
      "\u001b[1;31mTypeError\u001b[0m                                 Traceback (most recent call last)",
      "Cell \u001b[1;32mIn[23], line 1\u001b[0m\n\u001b[1;32m----> 1\u001b[0m \u001b[38;5;28;43mlen\u001b[39;49m\u001b[43m(\u001b[49m\u001b[38;5;28;43mint\u001b[39;49m\u001b[43m(\u001b[49m\u001b[38;5;124;43m\"\u001b[39;49m\u001b[38;5;124;43m2\u001b[39;49m\u001b[38;5;124;43m\"\u001b[39;49m\u001b[43m)\u001b[49m\u001b[43m)\u001b[49m\n",
      "\u001b[1;31mTypeError\u001b[0m: object of type 'int' has no len()"
     ]
    }
   ],
   "source": [
    "len(int(\"2\"))"
   ]
  },
  {
   "cell_type": "markdown",
   "id": "b79da56a-4c5b-4c5a-99f3-95ded115c542",
   "metadata": {},
   "source": [
    "### Atribuição de variáveis\n",
    "\n",
    "Variáveis em Python são fundamentais para o desenvolvimento de programas, pois atuam como \"recipientes\" para armazenar dados que podem ser modificados ao longo da execução de um script.\n",
    "\n",
    "A atribuição de um valor a uma variável em Python é feita com o operador =. Por exemplo:"
   ]
  },
  {
   "cell_type": "code",
   "execution_count": 26,
   "id": "663d5cab-7d16-4b38-9010-b796e0b1bf89",
   "metadata": {},
   "outputs": [
    {
     "name": "stdout",
     "output_type": "stream",
     "text": [
      "Azul\n"
     ]
    }
   ],
   "source": [
    "cor = 'Azul'\n",
    "print(cor)"
   ]
  },
  {
   "cell_type": "code",
   "execution_count": 28,
   "id": "e9cb9cc4-0009-4a0d-97f0-65b89ec7b8ad",
   "metadata": {},
   "outputs": [
    {
     "name": "stdout",
     "output_type": "stream",
     "text": [
      "Eu amo a cor Azul\n"
     ]
    }
   ],
   "source": [
    "print('Eu amo a cor', cor)"
   ]
  },
  {
   "cell_type": "markdown",
   "id": "f3fb09ca-f573-4977-a9bd-12aef13d6d08",
   "metadata": {},
   "source": [
    "### Tipos de Dados\n",
    "\n",
    "Python suporta vários tipos de dados, sendo eles:\n",
    "\n",
    "- Inteiros (int)\n",
    "- Números de ponto flutuante (float)\n",
    "- Strings (str)\n",
    "- Listas (list)\n",
    "- Tuplas (tuple)\n",
    "- Dicionários (dict)\n",
    "- Booleanos (bool)\n",
    "\n",
    "A linguagem determina o tipo de dados de uma variável no momento da atribuição, o que permite grande flexibilidade, mas também exige atenção para evitar erros de tipo."
   ]
  },
  {
   "attachments": {
    "a362bebf-ee29-41a5-87e0-bfd948719b55.png": {
     "image/png": "[encoded data removed]"
    },
    "e9714b70-c147-46ff-99aa-dbba9ec21004.png": {
     "image/png": "[encoded data removed]"
    }
   },
   "cell_type": "markdown",
   "id": "f2af0689-cd2a-4835-bab1-e247612289a1",
   "metadata": {},
   "source": [
    "### Desafio - Aula 1\n",
    "\n",
    "Escreva um programa em Python que solicita ao usuário para digitar seu nome, o valor do seu salário mensal e o valor do bônus que recebeu. O programa deve, então, imprimir uma mensagem saudando o usuário pelo nome e informando o valor do salário em comparação com o bônus recebido.\n",
    "\n",
    "![image.png](attachment:e9714b70-c147-46ff-99aa-dbba9ec21004.png)![image.png](attachment:a362bebf-ee29-41a5-87e0-bfd948719b55.png)"
   ]
  },
  {
   "cell_type": "code",
   "execution_count": 31,
   "id": "574d5214-6a59-4e3f-bb28-0b9ca0094937",
   "metadata": {},
   "outputs": [
    {
     "name": "stdin",
     "output_type": "stream",
     "text": [
      "Digite seu nome, por favor: Daniel\n",
      "Digite seu sálario: 6993\n",
      "Qual foi o seu bônus em %: 10\n"
     ]
    },
    {
     "name": "stdout",
     "output_type": "stream",
     "text": [
      "Olá Daniel seu bônus é: 699.3000000000001\n"
     ]
    }
   ],
   "source": [
    "nome = input('Digite seu nome, por favor:')\n",
    "salario = float(input('Digite seu sálario:'))\n",
    "bonus = float(input('Qual foi o seu bônus em %:'))\n",
    "print('Olá', nome, 'seu bônus é:', salario*(bonus/100))"
   ]
  },
  {
   "cell_type": "markdown",
   "id": "e02ff2cb-8a18-474f-ae4e-215b51a4ab6c",
   "metadata": {},
   "source": [
    "# Aula 2"
   ]
  },
  {
   "cell_type": "markdown",
   "id": "5b73bc24-5727-4edb-bd33-9b44f732025f",
   "metadata": {},
   "source": [
    "### Tipos primitivos\n",
    "\n",
    "Variáveis são espaços de memória designados para armazenar dados que podem ser modificados durante a execução de um programa. Em Python, a declaração de variáveis é dinâmica, o que significa que o tipo de dado é inferido durante a atribuição.\n",
    "\n",
    "Exemplo em Python:\n",
    "\n",
    "Python suporta vários tipos de dados simples, tais como:\n",
    "\n",
    "- **Inteiros (int)**: Representam números inteiros.\n",
    "- **Ponto Flutuante (float)**: Representam números reais.\n",
    "- **Strings (str)**: Representam sequências de caracteres.\n",
    "- **Booleanos (bool)**: Representam valores verdadeiros (True) ou falsos (False).\n",
    "\n",
    "#### 1. Inteiros (`int`)\n",
    "\n",
    "* **Métodos e operações:**\n",
    "    1. `+` (adição)\n",
    "    2. `-` (subtração)\n",
    "    3. `*` (multiplicação)\n",
    "    4. `//` (divisão inteira)\n",
    "    5. `%` (módulo - resto da divisão)\n",
    "\n",
    "#### 2. Números de Ponto Flutuante (`float`)\n",
    "\n",
    "* **Métodos e operações:**\n",
    "    1. `+` (adição)\n",
    "    2. `-` (subtração)\n",
    "    3. `*` (multiplicação)\n",
    "    4. `/` (divisão)\n",
    "    5. `**` (potenciação)\n",
    "\n",
    "#### 3. Strings (`str`)\n",
    "\n",
    "* **Métodos e operações:**\n",
    "    1. `.upper()` (converte para maiúsculas)\n",
    "    2. `.lower()` (converte para minúsculas)\n",
    "    3. `.strip()` (remove espaços em branco no início e no final)\n",
    "    4. `.split(sep)` (divide a string em uma lista, utilizando `sep` como delimitador)\n",
    "    5. `+` (concatenação de strings)\n",
    "\n",
    "#### 4. Booleanos (`bool`)\n",
    "\n",
    "* **Operações lógicas:**\n",
    "    1. `and` (E lógico)\n",
    "    2. `or` (OU lógico)\n",
    "    3. `not` (NÃO lógico)\n",
    "    4. `==` (igualdade)\n",
    "    5. `!=` (diferença)"
   ]
  },
  {
   "cell_type": "markdown",
   "id": "8594a9a7-4ea1-473f-986f-31ddc5e5bbfa",
   "metadata": {},
   "source": [
    "#### Exercícios - Inteiros (`int`)\n",
    "\n",
    "1. Escreva um programa que soma dois números inteiros inseridos pelo usuário."
   ]
  },
  {
   "cell_type": "code",
   "execution_count": 32,
   "id": "760d5b43-1d02-4cab-9552-4b472a6ed3c5",
   "metadata": {},
   "outputs": [
    {
     "name": "stdin",
     "output_type": "stream",
     "text": [
      "Digite um número: 3\n",
      "Digite outro número: 5\n"
     ]
    },
    {
     "name": "stdout",
     "output_type": "stream",
     "text": [
      "A soma dos números inseridos é: 8\n"
     ]
    }
   ],
   "source": [
    "num1 = int(input('Digite um número:'))\n",
    "num2 = int(input('Digite outro número:'))\n",
    "\n",
    "print(f'A soma dos números inseridos é: {num1+num2}')"
   ]
  },
  {
   "cell_type": "markdown",
   "id": "107b9c25-788a-4889-aa04-e806a9842530",
   "metadata": {},
   "source": [
    "2. Crie um programa que receba um número do usuário e calcule o resto da divisão desse número por 5."
   ]
  },
  {
   "cell_type": "code",
   "execution_count": 34,
   "id": "ec2657ff-5223-46d0-8a56-b12364f07f27",
   "metadata": {},
   "outputs": [
    {
     "name": "stdin",
     "output_type": "stream",
     "text": [
      "Digite um número: 7\n"
     ]
    },
    {
     "name": "stdout",
     "output_type": "stream",
     "text": [
      "O resto da divisão desse número por cinco é: 2\n"
     ]
    }
   ],
   "source": [
    "num = int(input('Digite um número:'))\n",
    "\n",
    "print(f'O resto da divisão desse número por cinco é: {num%5}')"
   ]
  },
  {
   "cell_type": "markdown",
   "id": "1bc77722-c292-4fb8-9cc7-ce7fa0fe9231",
   "metadata": {},
   "source": [
    "3. Desenvolva um programa que multiplique dois números fornecidos pelo usuário e mostre o resultado."
   ]
  },
  {
   "cell_type": "code",
   "execution_count": 35,
   "id": "ce714978-1ddf-4fa8-b8ff-bae8b3027b90",
   "metadata": {},
   "outputs": [
    {
     "name": "stdin",
     "output_type": "stream",
     "text": [
      "Digite um número: 3\n",
      "Digite outro número: 2\n"
     ]
    },
    {
     "name": "stdout",
     "output_type": "stream",
     "text": [
      "A multiplicação dos números inseridos é: 6\n"
     ]
    }
   ],
   "source": [
    "num1 = int(input('Digite um número:'))\n",
    "num2 = int(input('Digite outro número:'))\n",
    "\n",
    "print(f'A multiplicação dos números inseridos é: {num1*num2}')"
   ]
  },
  {
   "cell_type": "markdown",
   "id": "9c0632be-cd5a-48c5-adf9-f250ca0e3b54",
   "metadata": {},
   "source": [
    "4. Faça um programa que peça dois números inteiros e imprima a divisão inteira do primeiro pelo segundo."
   ]
  },
  {
   "cell_type": "code",
   "execution_count": 36,
   "id": "3036e723-90b4-4806-b491-91dbf9f8419c",
   "metadata": {},
   "outputs": [
    {
     "name": "stdin",
     "output_type": "stream",
     "text": [
      "Digite um número: 10\n",
      "Digite outro número: 2\n"
     ]
    },
    {
     "name": "stdout",
     "output_type": "stream",
     "text": [
      "A divisão do primeiro pelo segundo número é: 5.0\n"
     ]
    }
   ],
   "source": [
    "num1 = int(input('Digite um número:'))\n",
    "num2 = int(input('Digite outro número:'))\n",
    "\n",
    "print(f'A divisão do primeiro pelo segundo número é: {num1/num2}')"
   ]
  },
  {
   "cell_type": "markdown",
   "id": "1cb8b92d-30fa-4090-9738-c9a9b51491a3",
   "metadata": {},
   "source": [
    "5. Escreva um programa que calcule o quadrado de um número fornecido pelo usuário."
   ]
  },
  {
   "cell_type": "code",
   "execution_count": 38,
   "id": "e8c4e6a9-4f16-499d-9d1f-06a18eaa3dac",
   "metadata": {},
   "outputs": [
    {
     "name": "stdin",
     "output_type": "stream",
     "text": [
      "Digite um número: 7\n"
     ]
    },
    {
     "name": "stdout",
     "output_type": "stream",
     "text": [
      "O quadrado deste número é: 49\n"
     ]
    }
   ],
   "source": [
    "num = int(input('Digite um número:'))\n",
    "\n",
    "print(f'O quadrado deste número é: {num**2}')"
   ]
  },
  {
   "cell_type": "markdown",
   "id": "2af508d1-f352-47ea-b985-7f54a1b1b126",
   "metadata": {},
   "source": [
    "#### Exercícios - Pontos flutuantes (`float`)\n"
   ]
  },
  {
   "cell_type": "markdown",
   "id": "fac5dc6c-e937-4434-b22a-31ca16f6c090",
   "metadata": {},
   "source": [
    "6. Escreva um programa que receba dois números flutuantes e realize sua adição."
   ]
  },
  {
   "cell_type": "code",
   "execution_count": 40,
   "id": "36034ab5-96c2-45da-97fa-ae42a274beb4",
   "metadata": {},
   "outputs": [
    {
     "name": "stdin",
     "output_type": "stream",
     "text": [
      "Digite um número: 7\n",
      "Digite outro número: 15\n"
     ]
    },
    {
     "name": "stdout",
     "output_type": "stream",
     "text": [
      "A soma dos números inseridos é: 22.0\n"
     ]
    }
   ],
   "source": [
    "num1 = float(input('Digite um número:'))\n",
    "num2 = float(input('Digite outro número:'))\n",
    "\n",
    "print(f'A soma dos números inseridos é: {num1+num2}')"
   ]
  },
  {
   "cell_type": "markdown",
   "id": "71cf161a-392b-4de6-aea8-d7bd3233593b",
   "metadata": {},
   "source": [
    "7. Crie um programa que calcule a média de dois números flutuantes fornecidos pelo usuário."
   ]
  },
  {
   "cell_type": "code",
   "execution_count": 41,
   "id": "4277d702-26d1-4738-b232-469ac137a809",
   "metadata": {},
   "outputs": [
    {
     "name": "stdin",
     "output_type": "stream",
     "text": [
      "Digite um número: 4\n",
      "Digite outro número: 3\n"
     ]
    },
    {
     "name": "stdout",
     "output_type": "stream",
     "text": [
      "A média dos números fornecidos é: 3.5\n"
     ]
    }
   ],
   "source": [
    "num1 = float(input('Digite um número:'))\n",
    "num2 = float(input('Digite outro número:'))\n",
    "media = (num1+num2)/2\n",
    "\n",
    "print(f'A média dos números fornecidos é: {media}')"
   ]
  },
  {
   "cell_type": "markdown",
   "id": "a48c3860-4672-4821-be43-4addd0d55c30",
   "metadata": {},
   "source": [
    "8. Desenvolva um programa que calcule a potência de um número (base e expoente fornecidos pelo usuário)."
   ]
  },
  {
   "cell_type": "code",
   "execution_count": 42,
   "id": "9d163042-b141-4467-98ae-19f872897364",
   "metadata": {},
   "outputs": [
    {
     "name": "stdin",
     "output_type": "stream",
     "text": [
      "Digite um número: 3\n",
      "Digite outro número: 7\n"
     ]
    },
    {
     "name": "stdout",
     "output_type": "stream",
     "text": [
      "A potência dos números fornecidos (3.0**7.0) é 2187.0\n"
     ]
    }
   ],
   "source": [
    "num1 = float(input('Digite um número:'))\n",
    "num2 = float(input('Digite outro número:'))\n",
    "\n",
    "print(f'A potência dos números fornecidos ({num1}**{num2}) é {num1**num2}')"
   ]
  },
  {
   "cell_type": "markdown",
   "id": "07a49d86-6c38-4fa8-875f-9ea64a339810",
   "metadata": {},
   "source": [
    "9. Faça um programa que converta a temperatura de Celsius para Fahrenheit."
   ]
  },
  {
   "cell_type": "code",
   "execution_count": 45,
   "id": "c128454e-8885-4459-84df-75bd6732724a",
   "metadata": {},
   "outputs": [
    {
     "name": "stdin",
     "output_type": "stream",
     "text": [
      "Digite uma temperatura em celcius: 1\n"
     ]
    },
    {
     "name": "stdout",
     "output_type": "stream",
     "text": [
      "A temperatura convertida para Fahrenheit é: 33.8\n"
     ]
    }
   ],
   "source": [
    "celcius = float(input('Digite uma temperatura em celcius:'))\n",
    "\n",
    "print(f'A temperatura convertida para Fahrenheit é: {(celcius * 1.8) + 32}')"
   ]
  },
  {
   "cell_type": "markdown",
   "id": "0cd7b3dc-8d1a-49e8-accd-64c254e2d4f9",
   "metadata": {},
   "source": [
    "10. Escreva um programa que calcule a área de um círculo, recebendo o raio como entrada."
   ]
  },
  {
   "cell_type": "code",
   "execution_count": 48,
   "id": "ac5fb273-7be3-4981-9469-596698375cb9",
   "metadata": {},
   "outputs": [
    {
     "name": "stdin",
     "output_type": "stream",
     "text": [
      "Digite o raio do círculo: 2\n"
     ]
    },
    {
     "name": "stdout",
     "output_type": "stream",
     "text": [
      "A área do círculo é: 12.5663706143592\n"
     ]
    }
   ],
   "source": [
    "PI = 3.1415926535898\n",
    "raio = float(input('Digite o raio do círculo:'))\n",
    "\n",
    "print(f'A área do círculo é: {PI*(raio**2)}')"
   ]
  },
  {
   "cell_type": "markdown",
   "id": "01582e21-8e48-4ea7-ba7c-c3bfc5b8aa2a",
   "metadata": {},
   "source": [
    "#### Exercícios - Strings (`str`)"
   ]
  },
  {
   "cell_type": "markdown",
   "id": "0444e29c-1759-478a-9981-1da7ed0abc62",
   "metadata": {},
   "source": [
    "11. Escreva um programa que receba uma string do usuário e a converta para maiúsculas."
   ]
  },
  {
   "cell_type": "code",
   "execution_count": 52,
   "id": "1cf25eec-24db-487f-8da4-89f755bc2975",
   "metadata": {},
   "outputs": [
    {
     "name": "stdin",
     "output_type": "stream",
     "text": [
      "Digite uma palavra: caramelo\n"
     ]
    },
    {
     "name": "stdout",
     "output_type": "stream",
     "text": [
      "Para converter para maiúsculas, uso o método .upper() ---> CARAMELO\n"
     ]
    }
   ],
   "source": [
    "string = input('Digite uma palavra:')\n",
    "\n",
    "print(f'Para converter para maiúsculas, uso o método .upper() ---> {string.upper()}')"
   ]
  },
  {
   "cell_type": "markdown",
   "id": "651d6b7b-34e2-441e-9036-951df8e7e0f2",
   "metadata": {},
   "source": [
    "12. Crie um programa que receba o nome completo do usuário e imprima o nome com todas as letras minúsculas."
   ]
  },
  {
   "cell_type": "code",
   "execution_count": 51,
   "id": "423264c0-8065-46ac-98c6-50e537f057bb",
   "metadata": {},
   "outputs": [
    {
     "name": "stdin",
     "output_type": "stream",
     "text": [
      "Digite uma palavra: CARAMELO\n"
     ]
    },
    {
     "name": "stdout",
     "output_type": "stream",
     "text": [
      "Para converter para minúsculas, uso o metodo .lower() ---> caramelo\n"
     ]
    }
   ],
   "source": [
    "string = input('Digite uma palavra:')\n",
    "\n",
    "print(f'Para converter para minúsculas, uso o metodo .lower() ---> {string.lower()}')"
   ]
  },
  {
   "cell_type": "markdown",
   "id": "0ada245b-be16-499b-a8c0-4521e5852f8d",
   "metadata": {},
   "source": [
    "13. Desenvolva um programa que peça ao usuário para inserir uma frase e, em seguida, imprima esta frase sem espaços em branco no início e no final."
   ]
  },
  {
   "cell_type": "code",
   "execution_count": 53,
   "id": "7d1f099d-c86b-4c80-9bf8-100524026a62",
   "metadata": {},
   "outputs": [
    {
     "name": "stdin",
     "output_type": "stream",
     "text": [
      "Digite uma palavra com espaços no inicio e final:            caramelo        \n"
     ]
    },
    {
     "name": "stdout",
     "output_type": "stream",
     "text": [
      "Para remover os espaços, uso o metodo .strip() ---> caramelo\n"
     ]
    }
   ],
   "source": [
    "string = input('Digite uma palavra com espaços no inicio e final: ')\n",
    "\n",
    "print(f'Para remover os espaços, uso o metodo .strip() ---> {string.strip()}')"
   ]
  },
  {
   "cell_type": "markdown",
   "id": "830db17a-5df7-4d3b-a5fe-7ce30cbb8bc9",
   "metadata": {},
   "source": [
    "14. Faça um programa que peça ao usuário para digitar uma data no formato \"dd/mm/aaaa\" e, em seguida, imprima o dia, o mês e o ano separadamente."
   ]
  },
  {
   "cell_type": "code",
   "execution_count": 55,
   "id": "53a30d59-8c20-4e4c-8ea8-d80d1d113ec3",
   "metadata": {},
   "outputs": [
    {
     "name": "stdin",
     "output_type": "stream",
     "text": [
      "Digite uma data no formato \"dd/mm/aaaa\" 07/01/1997\n"
     ]
    },
    {
     "name": "stdout",
     "output_type": "stream",
     "text": [
      "A data separada é ['07', '01', '1997']\n"
     ]
    }
   ],
   "source": [
    "data = input('Digite uma data no formato \"dd/mm/aaaa\"')\n",
    "\n",
    "print(f'A data separada é {data.split('/')}')"
   ]
  },
  {
   "cell_type": "markdown",
   "id": "d75ef0a0-9682-4f6f-b997-97b6df49a978",
   "metadata": {},
   "source": [
    "15. Escreva um programa que concatene duas strings fornecidas pelo usuário."
   ]
  },
  {
   "cell_type": "code",
   "execution_count": 57,
   "id": "28341ade-27e9-4401-85ec-65917f3b9d20",
   "metadata": {},
   "outputs": [
    {
     "name": "stdin",
     "output_type": "stream",
     "text": [
      "Digite uma palavra: Olá \n",
      "Digite outra palavra: mundo\n"
     ]
    },
    {
     "name": "stdout",
     "output_type": "stream",
     "text": [
      "Palavras concatenadas: Olá mundo\n"
     ]
    }
   ],
   "source": [
    "string1 = input('Digite uma palavra:')\n",
    "string2 = input('Digite outra palavra:')\n",
    "\n",
    "print(f'Palavras concatenadas: {string1+string2}')"
   ]
  },
  {
   "cell_type": "markdown",
   "id": "712bdbee-c720-4b9e-9c15-8a37f6e5153b",
   "metadata": {},
   "source": [
    "#### Exercícios - Booleanos (`bool`)"
   ]
  },
  {
   "cell_type": "markdown",
   "id": "a3ad7477-2e08-492b-a10c-81487347e8b6",
   "metadata": {},
   "source": [
    "16. Escreva um programa que avalie duas expressões booleanas inseridas pelo usuário e retorne o resultado da operação AND entre elas."
   ]
  },
  {
   "cell_type": "code",
   "execution_count": 84,
   "id": "44a105c0-2bd7-4546-ae8e-f018ab372eb4",
   "metadata": {},
   "outputs": [
    {
     "name": "stdin",
     "output_type": "stream",
     "text": [
      "Digite 1 para \"True\" e 0 para \"False\": 1\n",
      "Digite 1 para \"True\" e 0 para \"False\": 0\n"
     ]
    },
    {
     "name": "stdout",
     "output_type": "stream",
     "text": [
      "O resultado da operação \"bool1 AND bool2\" é: False\n"
     ]
    }
   ],
   "source": [
    "bool1 = bool(int(input('Digite 1 para \"True\" e 0 para \"False\":')))\n",
    "bool2 = bool(int(input('Digite 1 para \"True\" e 0 para \"False\":')))\n",
    "resultado = bool1 and bool2\n",
    "print(f'O resultado da operação \"bool1 AND bool2\" é: {resultado}')"
   ]
  },
  {
   "cell_type": "markdown",
   "id": "1a3bfced-e9d2-4103-a6dd-b9df171108ec",
   "metadata": {},
   "source": [
    "17. Crie um programa que receba dois valores booleanos do usuário e retorne o resultado da operação OR."
   ]
  },
  {
   "cell_type": "code",
   "execution_count": 85,
   "id": "181d15bc-0642-4f7c-8121-fbe7a2c30555",
   "metadata": {},
   "outputs": [
    {
     "name": "stdin",
     "output_type": "stream",
     "text": [
      "Digite 1 para \"True\" e 0 para \"False\": 1\n",
      "Digite 1 para \"True\" e 0 para \"False\": 0\n"
     ]
    },
    {
     "name": "stdout",
     "output_type": "stream",
     "text": [
      "O resultado da operação \"bool1 or bool2\" é: True\n"
     ]
    }
   ],
   "source": [
    "bool1 = bool(int(input('Digite 1 para \"True\" e 0 para \"False\":')))\n",
    "bool2 = bool(int(input('Digite 1 para \"True\" e 0 para \"False\":')))\n",
    "resultado = bool1 or bool2\n",
    "print(f'O resultado da operação \"bool1 or bool2\" é: {resultado}')"
   ]
  },
  {
   "cell_type": "markdown",
   "id": "49fca17b-514b-4ff6-acaf-9b493bb4123c",
   "metadata": {},
   "source": [
    "18. Desenvolva um programa que peça ao usuário para inserir um valor booleano e, em seguida, inverta esse valor."
   ]
  },
  {
   "cell_type": "code",
   "execution_count": 86,
   "id": "a37c4fee-aaeb-4cdc-8af1-decc89f6d4d0",
   "metadata": {},
   "outputs": [
    {
     "name": "stdin",
     "output_type": "stream",
     "text": [
      "Digite 1 para \"True\" e 0 para \"False\": 1\n"
     ]
    },
    {
     "name": "stdout",
     "output_type": "stream",
     "text": [
      "O valor invertido é: False\n"
     ]
    }
   ],
   "source": [
    "boolean = bool(int(input('Digite 1 para \"True\" e 0 para \"False\":')))\n",
    "invertido = not boolean\n",
    "\n",
    "print(f'O valor invertido é: {invertido}')"
   ]
  },
  {
   "cell_type": "markdown",
   "id": "42f067a6-0aee-4f23-9596-e14b7cef4059",
   "metadata": {},
   "source": [
    "19. Faça um programa que compare se dois números fornecidos pelo usuário são iguais."
   ]
  },
  {
   "cell_type": "code",
   "execution_count": 87,
   "id": "5c9f612b-50ad-4c07-a1b0-2e462471de9a",
   "metadata": {},
   "outputs": [
    {
     "name": "stdin",
     "output_type": "stream",
     "text": [
      "Digite um número: 3\n",
      "Digite outro número: 4\n"
     ]
    },
    {
     "name": "stdout",
     "output_type": "stream",
     "text": [
      "Os valores são iguais?: False\n"
     ]
    }
   ],
   "source": [
    "num1 = int(input('Digite um número:'))\n",
    "num2 = int(input('Digite outro número:'))\n",
    "\n",
    "print(f'Os valores são iguais?: {num1==num2}')"
   ]
  },
  {
   "cell_type": "markdown",
   "id": "f44c08b3-5b27-46f8-aeb5-79d6a9924ab4",
   "metadata": {},
   "source": [
    "20. Escreva um programa que verifique se dois números fornecidos pelo usuário são diferentes."
   ]
  },
  {
   "cell_type": "code",
   "execution_count": 89,
   "id": "25c2b7fe-ee62-4539-82be-67d4ed033970",
   "metadata": {},
   "outputs": [
    {
     "name": "stdin",
     "output_type": "stream",
     "text": [
      "Digite um número: 3\n",
      "Digite outro número: 4\n"
     ]
    },
    {
     "name": "stdout",
     "output_type": "stream",
     "text": [
      "Os valores são diferentes?: True\n"
     ]
    }
   ],
   "source": [
    "num1 = int(input('Digite um número:'))\n",
    "num2 = int(input('Digite outro número:'))\n",
    "\n",
    "print(f'Os valores são diferentes?: {num1!=num2}')"
   ]
  },
  {
   "cell_type": "markdown",
   "id": "8573e60b-2db1-4a9f-92b1-cb3cfd1a775d",
   "metadata": {},
   "source": [
    "### TypeError, Type Check e Type Conversion em Python\n",
    "\n",
    "Python é uma linguagem de programação dinâmica, mas fortemente tipada, o que significa que não é necessário declarar tipos de variáveis explicitamente, mas o tipo de uma variável é determinado pelo valor que ela armazena. Isso introduz a necessidade de compreender como Python lida com diferentes tipos de dados, especialmente quando se trata de operações que envolvem múltiplos tipos. Vamos explorar três conceitos importantes: `TypeError`, verificação de tipo (`type check`), e conversão de tipo (`type conversion`).\n",
    "\n",
    "#### TypeError\n",
    "\n",
    "Um `TypeError` ocorre em Python quando uma operação ou função é aplicada a um objeto de tipo inadequado. Python não sabe como aplicar a operação porque os tipos de dados não são compatíveis.\n",
    "\n",
    "#### Exemplo de TypeError\n",
    "\n",
    "Um exemplo clássico é tentar utilizar a função `len()` com um inteiro, o que resulta em `TypeError`, pois `len()` espera um objeto iterável, como uma string, lista, ou tupla, não um inteiro."
   ]
  },
  {
   "cell_type": "code",
   "execution_count": 1,
   "id": "ad8275db-4f91-48e2-a505-e2569fa427a4",
   "metadata": {},
   "outputs": [
    {
     "name": "stdout",
     "output_type": "stream",
     "text": [
      "object of type 'int' has no len()\n"
     ]
    }
   ],
   "source": [
    "# Exemplo que causa TypeError\n",
    "try:\n",
    "    resultado = len(5)\n",
    "except TypeError as e:\n",
    "    print(e)  # Imprime a mensagem de erro"
   ]
  },
  {
   "cell_type": "markdown",
   "id": "ae3af03c-c9c6-4a4a-9f66-d49565843253",
   "metadata": {},
   "source": [
    "### Type Check\n",
    "\n",
    "Verificação de tipo (`type check`) é o processo de verificar o tipo de uma variável. Isso pode ser útil para garantir que operações ou funções sejam aplicadas apenas a tipos de dados compatíveis, evitando erros em tempo de execução.\n",
    "\n",
    "#### Exemplo de Type Check\n",
    "\n",
    "Para verificar o tipo de uma variável em Python, você pode usar a função `type()` ou `isinstance()`."
   ]
  },
  {
   "cell_type": "code",
   "execution_count": 2,
   "id": "13e4a895-6673-4345-afbc-d1cd4c13b910",
   "metadata": {},
   "outputs": [
    {
     "name": "stdout",
     "output_type": "stream",
     "text": [
      "A variável é um inteiro.\n"
     ]
    }
   ],
   "source": [
    "numero = 10\n",
    "if isinstance(numero, int):\n",
    "    print(\"A variável é um inteiro.\")\n",
    "else:\n",
    "    print(\"A variável não é um inteiro.\")"
   ]
  },
  {
   "cell_type": "markdown",
   "id": "871211b9-8a3e-4ad1-bb80-a14959758299",
   "metadata": {},
   "source": [
    "### Type Conversion\n",
    "\n",
    "Conversão de tipo (`type conversion`), também conhecida como casting, é o processo de converter o valor de uma variável de um tipo para outro. Python oferece várias funções integradas para realizar conversões explícitas de tipo, como `int()`, `float()`, `str()`, etc.\n",
    "\n",
    "#### Exemplo de Type Conversion\n",
    "\n",
    "Se você quiser somar um inteiro e um número flutuante, pode ser necessário converter o inteiro para flutuante ou vice-versa para garantir que a operação de soma seja realizada corretamente.\n"
   ]
  },
  {
   "cell_type": "code",
   "execution_count": 3,
   "id": "f978dcfa-ed9b-4cd1-9ffc-8a9373feaa60",
   "metadata": {},
   "outputs": [
    {
     "name": "stdout",
     "output_type": "stream",
     "text": [
      "7.5\n"
     ]
    }
   ],
   "source": [
    "numero_inteiro = 5\n",
    "numero_flutuante = 2.5\n",
    "# Converte o inteiro para flutuante e realiza a soma\n",
    "soma = float(numero_inteiro) + numero_flutuante\n",
    "print(soma)  # Resultado: 7.5"
   ]
  },
  {
   "cell_type": "markdown",
   "id": "41d887e0-ed59-4a55-8d0c-ca25073b911f",
   "metadata": {},
   "source": [
    "### try-except\n",
    "\n",
    "A estrutura `try-except` é usada para tratamento de exceções em Python. Uma exceção é um erro que ocorre durante a execução do programa e que, se não tratado, interrompe o fluxo normal do programa e termina sua execução. O tratamento de exceções permite que o programa lide com erros de maneira elegante, permitindo que continue a execução ou falhe de forma controlada.\n",
    "\n",
    "* **try:** Este bloco é o primeiro na estrutura de tratamento de exceções. Python tenta executar o código dentro deste bloco.\n",
    "* **except:** Se uma exceção ocorrer no bloco `try`, a execução imediatamente salta para o bloco `except`. Você pode especificar tipos de exceção específicos para capturar e tratar apenas essas exceções. Se nenhum tipo de exceção for especificado, ele captura todas as exceções.\n"
   ]
  },
  {
   "cell_type": "code",
   "execution_count": 4,
   "id": "02f55cbd-acf1-4d08-83d1-780ca38652cd",
   "metadata": {},
   "outputs": [
    {
     "name": "stdout",
     "output_type": "stream",
     "text": [
      "Divisão por zero não é permitida.\n"
     ]
    }
   ],
   "source": [
    "try:\n",
    "    # Código que pode gerar uma exceção\n",
    "    resultado = 10 / 0\n",
    "except ZeroDivisionError:\n",
    "    # Código que executa se a exceção ZeroDivisionError for levantada\n",
    "    print(\"Divisão por zero não é permitida.\")"
   ]
  },
  {
   "cell_type": "markdown",
   "id": "c183deac-9625-4fe5-ae34-c6921b406324",
   "metadata": {},
   "source": [
    "### if\n",
    "\n",
    "O `if` é uma estrutura de controle de fluxo que permite ao programa executar diferentes ações com base em diferentes condições. Se a condição avaliada pelo `if` for verdadeira (`True`), o bloco de código indentado sob ele será executado. Se a condição for falsa (`False`), o bloco de código será ignorado.\n",
    "\n",
    "* **if:** Avalia uma condição. Se a condição for verdadeira, executa o bloco de código associado.\n",
    "* **elif:** Abreviação de \"else if\". Permite verificar múltiplas condições em sequência.\n",
    "* **else:** Executa um bloco de código se todas as condições anteriores no `if` e `elif` forem falsas.\n"
   ]
  },
  {
   "cell_type": "code",
   "execution_count": 5,
   "id": "e0cc456a-47d2-48db-92c0-95cf90c90741",
   "metadata": {},
   "outputs": [
    {
     "name": "stdout",
     "output_type": "stream",
     "text": [
      "Maior de idade\n"
     ]
    }
   ],
   "source": [
    "idade = 20\n",
    "if idade < 18:\n",
    "    print(\"Menor de idade\")\n",
    "elif idade == 18:\n",
    "    print(\"Exatamente 18 anos\")\n",
    "else:\n",
    "    print(\"Maior de idade\")"
   ]
  },
  {
   "cell_type": "markdown",
   "id": "f51379a1-f6c9-452b-b2ea-c92529ec004b",
   "metadata": {},
   "source": [
    "### Desafio Aula 2\n",
    "\n",
    "##### Desafio - Refatorar o projeto da aula anterior evitando Bugs!\n",
    "\n",
    "1) Solicita ao usuário que digite seu nome\n",
    "\n",
    "2) Solicita ao usuário que digite o valor do seu salário e converte a entrada para um número de ponto flutuante\n",
    "\n",
    "3) Solicita ao usuário que digite o valor do bônus recebido e converte a entrada para um número de ponto flutuante\n",
    "\n",
    "4) Calcule o valor do bônus final\n",
    "\n",
    "5) Imprime a mensagem personalizada incluindo o nome do usuário, salário e bônus\n",
    "\n",
    "**Bônus**: Quantos bugs e riscos você consegue identificar nesse programa?"
   ]
  },
  {
   "cell_type": "code",
   "execution_count": 40,
   "id": "9498244a-ebcf-40cf-9aed-6e5089c2c6f6",
   "metadata": {},
   "outputs": [
    {
     "name": "stdin",
     "output_type": "stream",
     "text": [
      "Digite seu nome: A\n"
     ]
    },
    {
     "name": "stdout",
     "output_type": "stream",
     "text": [
      "Acho que você digitou seu nome incorretamente... Tente novamente.\n"
     ]
    },
    {
     "name": "stdin",
     "output_type": "stream",
     "text": [
      "Digite seu nome: b\n"
     ]
    },
    {
     "name": "stdout",
     "output_type": "stream",
     "text": [
      "Acho que você digitou seu nome incorretamente... Tente novamente.\n"
     ]
    },
    {
     "name": "stdin",
     "output_type": "stream",
     "text": [
      "Digite seu nome: Daniel\n",
      "Digite seu salário: 20\n",
      "Digite seu bônus (%): 10\n"
     ]
    },
    {
     "name": "stdout",
     "output_type": "stream",
     "text": [
      "Prezado, Daniel. De acordo com o bônus informado, seu novo sálario será R$22.00\n"
     ]
    }
   ],
   "source": [
    "from time import sleep\n",
    "\n",
    "nome = input('Digite seu nome:')\n",
    "while not nome.isalpha() or len(nome) <= 1:\n",
    "    print('Acho que você digitou seu nome incorretamente... Tente novamente.')\n",
    "    sleep(1)\n",
    "    nome = input('Digite seu nome:')\n",
    "salario = input('Digite seu salário:')\n",
    "while not salario.isnumeric():\n",
    "    print('Acho que você digitou seu salario incorretamente... Tente novamente.')\n",
    "    sleep(1)\n",
    "    salario = input('Digite seu salário:')\n",
    "bonus = input('Digite seu bônus (%):')\n",
    "while not bonus.isnumeric():\n",
    "    print('Acho que você digitou seu bônus incorretamente... Tente novamente.')\n",
    "    sleep(1)\n",
    "    bonus = input('Digite seu bônus:')\n",
    "salario, bonus_pct = float(salario), float(bonus)/100\n",
    "print(f'Prezado, {nome}. De acordo com o bônus informado, seu novo sálario será R${salario * (1+bonus_pct):.2f}')"
   ]
  },
  {
   "cell_type": "markdown",
   "id": "6451c52b-f304-41c9-bbd5-9e8b832af6ec",
   "metadata": {},
   "source": [
    "# Aula 3"
   ]
  },
  {
   "cell_type": "markdown",
   "id": "9758a72f-c47c-4224-8668-472b63ddb32c",
   "metadata": {},
   "source": [
    "### If\n",
    "\n",
    "O if é uma estrutura de controle de fluxo que checa se uma determinada condição é verdadeira `True` ou falsa `False`. O fluxo do programa seguirá com base nos resultados da condição."
   ]
  },
  {
   "cell_type": "markdown",
   "id": "2424d6c5-292c-45e6-a32e-888550a81b38",
   "metadata": {},
   "source": [
    "![image.png](https://media.geeksforgeeks.org/wp-content/uploads/20230724112040/Java-if-else-660.png)\n"
   ]
  },
  {
   "cell_type": "code",
   "execution_count": 47,
   "id": "3702b153-654c-4257-8725-1286a0c05e3a",
   "metadata": {},
   "outputs": [
    {
     "name": "stdin",
     "output_type": "stream",
     "text": [
      "Digite sua idade: 17\n"
     ]
    },
    {
     "name": "stdout",
     "output_type": "stream",
     "text": [
      "Sinto muito, você não pode consumir bebidas alcoólicas\n"
     ]
    }
   ],
   "source": [
    "idade = int(input('Digite sua idade:'))\n",
    "if idade >= 18:\n",
    "    print('Se você quiser, poderá consumir bebidas alcoólicas')\n",
    "else:\n",
    "    print('Sinto muito, você não pode consumir bebidas alcoólicas')"
   ]
  },
  {
   "cell_type": "markdown",
   "id": "9bbdbcb1-f41c-4013-b257-654fb7f55116",
   "metadata": {},
   "source": [
    "## For loop\n",
    "\n",
    "Com a estrutura de repetição `for` é possível iterar (repetir) um comando com base em um número específicado pelo usuário. A estrutura do programa se dá da seguinte forma:\n",
    "\n",
    "```python\n",
    "for iter in range(10):\n",
    "    print('iter')\n",
    "```\n",
    "\n",
    "Para cada iteração (`iter`) dentro do intervalo (`range`) 10, imprima a repetição atual. No exemplo acima, o valor 10 não será impresso pois quando utilizamos a função `range`, o último valor nunca será impresso.\n",
    "\n",
    "Esse looping é útil quando temos um número de iterações (`range`) definido. Seja ele um intervalo numérico, ou sobre um conjunto de letras em uma palavra.\n",
    "\n",
    "```python\n",
    "for letra in 'dicionário':\n",
    "    print(letra)\n",
    "```"
   ]
  },
  {
   "cell_type": "code",
   "execution_count": 48,
   "id": "dc976b5e-8d47-4784-abd2-bc199ce60df8",
   "metadata": {},
   "outputs": [
    {
     "name": "stdout",
     "output_type": "stream",
     "text": [
      "A iteração atual é: 0\n",
      "A iteração atual é: 1\n",
      "A iteração atual é: 2\n",
      "A iteração atual é: 3\n",
      "A iteração atual é: 4\n",
      "A iteração atual é: 5\n",
      "A iteração atual é: 6\n",
      "A iteração atual é: 7\n",
      "A iteração atual é: 8\n",
      "A iteração atual é: 9\n"
     ]
    }
   ],
   "source": [
    "for iter in range(10):\n",
    "    print(f'A iteração atual é: {iter}')"
   ]
  },
  {
   "cell_type": "code",
   "execution_count": 49,
   "id": "463cfe97-e7b8-459f-ae4e-2d39dcc3c0f2",
   "metadata": {},
   "outputs": [
    {
     "name": "stdout",
     "output_type": "stream",
     "text": [
      "d\n",
      "i\n",
      "c\n",
      "i\n",
      "o\n",
      "n\n",
      "á\n",
      "r\n",
      "i\n",
      "o\n"
     ]
    }
   ],
   "source": [
    "for letra in 'dicionário':\n",
    "    print(letra)"
   ]
  },
  {
   "cell_type": "code",
   "execution_count": null,
   "id": "0211b096-7a7f-4add-88c2-20aa658ef016",
   "metadata": {},
   "outputs": [],
   "source": [
    "## While loop\n",
    "\n",
    "Com a estrutura de repetição `while` é possível iterar (repetir) um comando até que uma condição seja verdadeira. A estrutura do programa se dá da seguinte forma:\n",
    "\n",
    "```python\n",
    "while iter != 10:\n",
    "    print('iter')\n",
    "    iter += 1\n",
    "```\n",
    "\n",
    "Para cada iteração (`iter`) será avaliado uma desigualdade a 10, se caso a condição não ser verdadeira. No exemplo acima, o valor 10 não será impresso pois quando utilizamos a função `range`, o último valor nunca será impresso.\n",
    "\n",
    "Esse looping é útil quando temos um número de iterações (`range`) definido. Seja ele um intervalo numérico, ou sobre um conjunto de letras em uma palavra.\n",
    "\n",
    "```python\n",
    "for letra in 'dicionário':\n",
    "    print(letra)\n",
    "```"
   ]
  }
 ],
 "metadata": {
  "kernelspec": {
   "display_name": "Python 3 (ipykernel)",
   "language": "python",
   "name": "python3"
  },
  "language_info": {
   "codemirror_mode": {
    "name": "ipython",
    "version": 3
   },
   "file_extension": ".py",
   "mimetype": "text/x-python",
   "name": "python",
   "nbconvert_exporter": "python",
   "pygments_lexer": "ipython3",
   "version": "3.12.2"
  }
 },
 "nbformat": 4,
 "nbformat_minor": 5
}
